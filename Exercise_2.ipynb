{
  "cells": [
    {
      "cell_type": "markdown",
      "metadata": {
        "id": "QNWAYtOH8JJM"
      },
      "source": [
        "# Exercise 2"
      ]
    },
    {
      "cell_type": "markdown",
      "metadata": {
        "id": "WqS_i0U78JJQ"
      },
      "source": [
        "#### Pre-defined stack functions"
      ]
    },
    {
      "cell_type": "code",
      "execution_count": 39,
      "metadata": {
        "id": "Q55AdD2y8JJR"
      },
      "outputs": [],
      "source": [
        "# Creating a stack\n",
        "def create_stack():\n",
        "    stack = []\n",
        "    return stack\n",
        "\n",
        "def print_stack(stack):\n",
        "\n",
        "    if (check_empty(stack)):\n",
        "            return \"stack is empty\"\n",
        "\n",
        "    # Create a copy of the stack and reverse the elements\n",
        "    tempStack = stack.copy()\n",
        "    tempStack.reverse()\n",
        "\n",
        "    # Print all elements using a loop\n",
        "    for i in tempStack:\n",
        "        print(i)\n",
        "\n",
        "    # Delete the copy to free up memory\n",
        "    del tempStack\n",
        "\n",
        "# Creating an empty stack\n",
        "def check_empty(stack):\n",
        "    return len(stack) == 0\n",
        "\n",
        "\n",
        "# Adding items into the stack\n",
        "def push(stack, item):\n",
        "    stack.append(item)\n",
        "    print(\"pushed item: \",item)\n",
        "\n",
        "\n",
        "# Removing an element from the stack\n",
        "def pop(stack):\n",
        "    if (check_empty(stack)):\n",
        "        return \"stack is empty\"\n",
        "\n",
        "    return stack.pop()\n",
        "\n",
        "def peek(stack):\n",
        "\n",
        "    # Use negative indexing to display the last element of the list\n",
        "    print(stack[-1])\n"
      ]
    },
    {
      "cell_type": "markdown",
      "metadata": {
        "id": "z5FA3bY38JJT"
      },
      "source": [
        "#### 1. Create a burger stack.  \n",
        "\n",
        "The output of the stack should be in this order:\n",
        "\n",
        "- Bun\n",
        "\n",
        "- Tomato\n",
        "\n",
        "- Lettuce\n",
        "\n",
        "- Cheese\n",
        "\n",
        "- Patty\n",
        "\n",
        "- Bun"
      ]
    },
    {
      "cell_type": "code",
      "execution_count": 21,
      "metadata": {
        "id": "n6yPehQq8JJU",
        "colab": {
          "base_uri": "https://localhost:8080/"
        },
        "outputId": "d2060142-1185-4289-c86d-ee3da22e9dfd"
      },
      "outputs": [
        {
          "output_type": "stream",
          "name": "stdout",
          "text": [
            "pushed item:  Bun\n",
            "pushed item:  Patty\n",
            "pushed item:  Cheese\n",
            "pushed item:  Lettuce\n",
            "pushed item:  Tomato\n",
            "pushed item:  Bun\n",
            "Bun\n",
            "Tomato\n",
            "Lettuce\n",
            "Cheese\n",
            "Patty\n",
            "Bun\n"
          ]
        }
      ],
      "source": [
        "burger_stack = create_stack()\n",
        "\n",
        "push(burger_stack, \"Bun\")\n",
        "push(burger_stack, \"Patty\")\n",
        "push(burger_stack, \"Cheese\")\n",
        "push(burger_stack, \"Lettuce\")\n",
        "push(burger_stack, \"Tomato\")\n",
        "push(burger_stack, \"Bun\")\n",
        "\n",
        "print_stack(burger_stack)"
      ]
    },
    {
      "cell_type": "markdown",
      "metadata": {
        "id": "W4XvryDA8JJU"
      },
      "source": [
        "#### 2. Reverse a string using a stack\n",
        "\n",
        "Given two stacks:\n",
        "\n",
        "**name_stack = ['E', 'L', 'I', 'Z', 'E', 'R', 'P', 'O', 'N', 'I', 'O', 'J', 'R']**\n",
        "\n",
        "**reversed_stack = []**\n",
        "\n",
        "Use your full name and pop each letter from the **name_stack** and push each element into the **reversed_stack**\n",
        "\n",
        "-----------------\n",
        "**Expected output:**\n",
        "\n",
        "print(reversed_stack)\n",
        "\n",
        "['R', 'J', 'O', 'I', 'N', 'O', 'P', 'R', 'E', 'Z', 'I', 'L', 'E']"
      ]
    },
    {
      "cell_type": "code",
      "execution_count": 22,
      "metadata": {
        "id": "BuPMzC-g8JJV",
        "colab": {
          "base_uri": "https://localhost:8080/"
        },
        "outputId": "26d5dda5-3299-4aa9-81d8-1cd6748f9b90"
      },
      "outputs": [
        {
          "output_type": "stream",
          "name": "stdout",
          "text": [
            "pushed item:  I\n",
            "pushed item:  B\n",
            "pushed item:  E\n",
            "pushed item:  R\n",
            "['R', 'E', 'B', 'I']\n"
          ]
        }
      ],
      "source": [
        "name_stack = create_stack()\n",
        "\n",
        "push(name_stack, \"I\")\n",
        "push(name_stack, \"B\")\n",
        "push(name_stack, \"E\")\n",
        "push(name_stack, \"R\")\n",
        "\n",
        "reverse_stack = []\n",
        "length = len(name_stack)\n",
        "\n",
        "for i in range(length-1,-1,-1):\n",
        "   reverse_stack.append(name_stack.pop(i))\n",
        "\n",
        "print(reverse_stack)"
      ]
    },
    {
      "cell_type": "markdown",
      "metadata": {
        "id": "coRKfCPZ8JJV"
      },
      "source": [
        "#### 3. Remove elements using a stack\n",
        "\n",
        "Given this stack:\n",
        "\n",
        "numbers = [1,2,3,4,5,6,7,8,9,10]\n",
        "\n",
        "Using the **pop()** function, push elements in the **new_stack** if they are an **even number**\n",
        "\n",
        "-----------------\n",
        "\n",
        "**Expected output:**\n",
        "\n",
        "print(numbers)\n",
        "\n",
        "[1,3,5,7,9]"
      ]
    },
    {
      "cell_type": "code",
      "execution_count": 23,
      "metadata": {
        "id": "zTXYampp8JJV",
        "colab": {
          "base_uri": "https://localhost:8080/"
        },
        "outputId": "22bd7d03-98bd-460f-be3f-3aa45d281a11"
      },
      "outputs": [
        {
          "output_type": "stream",
          "name": "stdout",
          "text": [
            "pushed item:  1\n",
            "pushed item:  2\n",
            "pushed item:  3\n",
            "pushed item:  4\n",
            "pushed item:  5\n",
            "pushed item:  6\n",
            "pushed item:  7\n",
            "pushed item:  8\n",
            "pushed item:  9\n",
            "pushed item:  10\n",
            "[1, 3, 5, 7, 9]\n"
          ]
        }
      ],
      "source": [
        "numbers = create_stack()\n",
        "\n",
        "push(numbers, 1)\n",
        "push(numbers, 2)\n",
        "push(numbers, 3)\n",
        "push(numbers, 4)\n",
        "push(numbers, 5)\n",
        "push(numbers, 6)\n",
        "push(numbers, 7)\n",
        "push(numbers, 8)\n",
        "push(numbers, 9)\n",
        "push(numbers, 10)\n",
        "\n",
        "new_stack = []\n",
        "\n",
        "# Iterate through the numbers list in reverse to avoid index issues when popping\n",
        "for i in range(len(numbers) - 1, -1, -1):\n",
        "    if numbers[i] % 2 == 0:\n",
        "        new_stack.append(numbers.pop(i))\n",
        "\n",
        "print(numbers)"
      ]
    },
    {
      "cell_type": "markdown",
      "metadata": {
        "id": "1s4LGmuT8JJW"
      },
      "source": [
        "#### 4. Inserting elements into a stack\n",
        "\n",
        "Given two stacks:\n",
        "\n",
        "my_stack = ['E', 'L', 'I', 'Z', 'E', 'R', 'P', 'O', 'N', 'I', 'O', 'J', 'R']\n",
        "\n",
        "empty_stack = []\n",
        "\n",
        "Use **pop()** to get each element from  **my_stack** and use **push()** to insert the element to **empty_stack** only if:\n",
        "\n",
        "1. The element is a **vowel**\n",
        "2. The element does not exist in **empty_stack**\n",
        "\n",
        "----------------------\n",
        "\n",
        "**Expected output:**\n",
        "\n",
        "print_stack(empty_stack)\n",
        "\n",
        "['E', 'I', 'O']"
      ]
    },
    {
      "cell_type": "code",
      "execution_count": 35,
      "metadata": {
        "id": "cGXh7yd18JJW",
        "colab": {
          "base_uri": "https://localhost:8080/"
        },
        "outputId": "0417ead5-9ef5-4c4f-a34a-bee2f20a3fbd"
      },
      "outputs": [
        {
          "output_type": "stream",
          "name": "stdout",
          "text": [
            "pushed item:  E\n",
            "pushed item:  L\n",
            "pushed item:  I\n",
            "pushed item:  Z\n",
            "pushed item:  E\n",
            "pushed item:  R\n",
            "pushed item:  P\n",
            "pushed item:  O\n",
            "pushed item:  N\n",
            "pushed item:  I\n",
            "pushed item:  O\n",
            "pushed item:  J\n",
            "pushed item:  R\n",
            "pushed item:  E\n",
            "pushed item:  I\n",
            "pushed item:  O\n",
            "['E', 'I', 'O']\n"
          ]
        }
      ],
      "source": [
        "my_own_stack = create_stack()\n",
        "vowels = ['A','E','I','O','U']\n",
        "empty_stack = []\n",
        "\n",
        "push(my_own_stack, \"E\")\n",
        "push(my_own_stack, \"L\")\n",
        "push(my_own_stack, \"I\")\n",
        "push(my_own_stack, \"Z\")\n",
        "push(my_own_stack, \"E\")\n",
        "push(my_own_stack, \"R\")\n",
        "push(my_own_stack, \"P\")\n",
        "push(my_own_stack, \"O\")\n",
        "push(my_own_stack, \"N\")\n",
        "push(my_own_stack, \"I\")\n",
        "push(my_own_stack, \"O\")\n",
        "push(my_own_stack, \"J\")\n",
        "push(my_own_stack, \"R\")\n",
        "\n",
        "for i in range(len(my_own_stack)):\n",
        "  if (my_own_stack[i] in vowels):\n",
        "    if (my_own_stack[i] not in empty_stack):\n",
        "      push(empty_stack,my_own_stack[i])\n",
        "\n",
        "print(empty_stack)"
      ]
    },
    {
      "cell_type": "markdown",
      "metadata": {
        "id": "cwtpya5m8JJX"
      },
      "source": [
        "#### 5. Sort elements in a stack\n",
        "\n",
        "Given two stacks:\n",
        "\n",
        "number_stack = [3,1,2]\n",
        "\n",
        "sorted_stack = []\n",
        "\n",
        "Create a **sort()** function to pop each element from the **number_stack** and push each element into the **sorted_stack**. The elements in **sorted_stack** must be in ascending order.\n",
        "\n",
        "----------------\n",
        "\n",
        "**Hint:**\n",
        "\n",
        "| iteration | number_stack | sorted_stack |\n",
        "| --- | --- | --- |\n",
        "| 1 | [3, 1, 2] | [] |\n",
        "| 2 | [3, 1] | [2] |\n",
        "| 3 | [3, 2] | [1] |\n",
        "| 4 | [3] | [1, 2] |\n",
        "| 5 | [] | [1, 2, 3] |\n",
        "\n",
        "**Expected output:**\n",
        "\n",
        "print(sorted_stack)\n",
        "\n",
        "[1, 2, 3]"
      ]
    },
    {
      "cell_type": "code",
      "execution_count": 53,
      "metadata": {
        "id": "XrLee2zo8JJX",
        "colab": {
          "base_uri": "https://localhost:8080/"
        },
        "outputId": "962a91e5-1ffe-44c2-a068-99f02fde94e6"
      },
      "outputs": [
        {
          "output_type": "stream",
          "name": "stdout",
          "text": [
            "pushed item:  3\n",
            "pushed item:  1\n",
            "pushed item:  2\n",
            "3\n",
            "Popped Element: 2\n",
            "pushed item:  2\n",
            "Popped Element: 1\n",
            "pushed item:  2\n",
            "pushed item:  1\n",
            "Popped Element: 2\n",
            "pushed item:  2\n",
            "Popped Element: 3\n",
            "pushed item:  3\n",
            "[1, 2, 3]\n"
          ]
        }
      ],
      "source": [
        "unsorted_num_stack = create_stack()\n",
        "sorted_stack = create_stack()\n",
        "\n",
        "push(unsorted_num_stack, 3)\n",
        "push(unsorted_num_stack, 1)\n",
        "push(unsorted_num_stack, 2)\n",
        "\n",
        "print(len(unsorted_num_stack))\n",
        "\n",
        "def sort(unsorted_num_stack,sorted_stack):\n",
        "  while len(unsorted_num_stack) != 0:\n",
        "\n",
        "    pop_element = pop(unsorted_num_stack)\n",
        "    print(\"Popped Element:\", pop_element)\n",
        "\n",
        "    for i in reversed(sorted_stack):\n",
        "      if (i > pop_element):\n",
        "        push(unsorted_num_stack,pop(sorted_stack))\n",
        "    push(sorted_stack,pop_element)\n",
        "\n",
        "  return sorted_stack\n",
        "\n",
        "sort(unsorted_num_stack,sorted_stack)\n",
        "\n",
        "print(sorted_stack)"
      ]
    }
  ],
  "metadata": {
    "kernelspec": {
      "display_name": "Python 3",
      "language": "python",
      "name": "python3"
    },
    "language_info": {
      "codemirror_mode": {
        "name": "ipython",
        "version": 3
      },
      "file_extension": ".py",
      "mimetype": "text/x-python",
      "name": "python",
      "nbconvert_exporter": "python",
      "pygments_lexer": "ipython3",
      "version": "3.11.4"
    },
    "orig_nbformat": 4,
    "colab": {
      "provenance": []
    }
  },
  "nbformat": 4,
  "nbformat_minor": 0
}