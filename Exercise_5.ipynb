{
  "cells": [
    {
      "cell_type": "markdown",
      "metadata": {
        "id": "v1BF77SwDND1"
      },
      "source": [
        "# Exercise 5"
      ]
    },
    {
      "cell_type": "markdown",
      "metadata": {
        "id": "x-tASPoqDND3"
      },
      "source": [
        "#### 1. Create a dictionary of your 10 favorite songs."
      ]
    },
    {
      "cell_type": "markdown",
      "metadata": {
        "id": "jQuI-8SzDND3"
      },
      "source": [
        "Example:\n",
        "\n",
        "|KEY|VALUE|\n",
        "|---|---|\n",
        "|001|My Love|\n",
        "|002|Like a rose|"
      ]
    },
    {
      "cell_type": "code",
      "execution_count": 26,
      "metadata": {
        "id": "7k1nk_d5DND4"
      },
      "outputs": [],
      "source": [
        "myDict = {'001':'Show','002':'Racing into the night','003':'Throne','004':'Courtesy','005':'Bad','006':'STFU','007':'Brofist','008':'Fire','009':'Fancy','010':'Cupid'}"
      ]
    },
    {
      "cell_type": "markdown",
      "metadata": {
        "id": "e9K7UCAbDND5"
      },
      "source": [
        "#### 2. Loop through the dictionary by its **key** and **value**"
      ]
    },
    {
      "cell_type": "code",
      "execution_count": 27,
      "metadata": {
        "id": "UPtxx5S0DND5",
        "colab": {
          "base_uri": "https://localhost:8080/"
        },
        "outputId": "41ef0e27-809a-4f10-a97f-5382b8ed5f01"
      },
      "outputs": [
        {
          "output_type": "stream",
          "name": "stdout",
          "text": [
            "Key: 001 Value: Show\n",
            "Key: 002 Value: Racing into the night\n",
            "Key: 003 Value: Throne\n",
            "Key: 004 Value: Courtesy\n",
            "Key: 005 Value: Bad\n",
            "Key: 006 Value: STFU\n",
            "Key: 007 Value: Brofist\n",
            "Key: 008 Value: Fire\n",
            "Key: 009 Value: Fancy\n",
            "Key: 010 Value: Cupid\n"
          ]
        }
      ],
      "source": [
        "for i,j in myDict.items():\n",
        "  print(f\"Key: {i} Value: {j}\")"
      ]
    },
    {
      "cell_type": "markdown",
      "metadata": {
        "id": "K5gQk1qUDND5"
      },
      "source": [
        "#### 3. Add one additional song"
      ]
    },
    {
      "cell_type": "code",
      "execution_count": 28,
      "metadata": {
        "id": "DHe5yHj4DND5",
        "colab": {
          "base_uri": "https://localhost:8080/"
        },
        "outputId": "84bcae9e-d0e4-45fd-8f79-e6ee41ee589b"
      },
      "outputs": [
        {
          "output_type": "stream",
          "name": "stdout",
          "text": [
            "{'001': 'Show', '002': 'Racing into the night', '003': 'Throne', '004': 'Courtesy', '005': 'Bad', '006': 'STFU', '007': 'Brofist', '008': 'Fire', '009': 'Fancy', '010': 'Cupid', 11: 'Useewa'}\n"
          ]
        }
      ],
      "source": [
        "myDict['011'] = 'Useewa'\n",
        "print(myDict)"
      ]
    },
    {
      "cell_type": "markdown",
      "metadata": {
        "id": "3LXg-g6mDND5"
      },
      "source": [
        "#### 4. Remove one song"
      ]
    },
    {
      "cell_type": "code",
      "execution_count": 29,
      "metadata": {
        "id": "wSZMNVLJDND6",
        "colab": {
          "base_uri": "https://localhost:8080/"
        },
        "outputId": "c743ece5-9a3e-4cdd-fd7c-96c05af70f17"
      },
      "outputs": [
        {
          "output_type": "stream",
          "name": "stdout",
          "text": [
            "{'002': 'Racing into the night', '003': 'Throne', '004': 'Courtesy', '005': 'Bad', '006': 'STFU', '007': 'Brofist', '008': 'Fire', '009': 'Fancy', '010': 'Cupid', 11: 'Useewa'}\n"
          ]
        }
      ],
      "source": [
        "myDict.pop('001')\n",
        "print(myDict)"
      ]
    },
    {
      "cell_type": "markdown",
      "metadata": {
        "id": "LIlb8rZFDND6"
      },
      "source": [
        "#### 5. Create a nested dictionary of your 10 favorite songs with 5 genres. Display all of the items of the nested dictionary\n",
        "\n",
        "- Each nested dictionary's key should be the genre of the song\n",
        "- Put each song in their respective genre"
      ]
    },
    {
      "cell_type": "markdown",
      "metadata": {
        "id": "gSYDcan-DND6"
      },
      "source": [
        "Example:\n",
        "\n",
        "\n",
        "|KEY|VALUE|\n",
        "|---|---|\n",
        "|Pop|{001, Baby}|\n",
        "|Rock|{001, Enter Sandman}|"
      ]
    },
    {
      "cell_type": "code",
      "execution_count": 30,
      "metadata": {
        "id": "L5jNPUpRDND6"
      },
      "outputs": [],
      "source": [
        "dictWGenre = {\n",
        "    'Jpop':{\n",
        "        1:'Show',\n",
        "        2:'Racing into the night'\n",
        "    },\n",
        "    'Rock':{\n",
        "        1:'Throne',\n",
        "        2:'Courtesy Call'\n",
        "    },\n",
        "    'Pop':{\n",
        "        1:'Bad',\n",
        "        2:'STFU',\n",
        "        3:'Brofist'\n",
        "    },\n",
        "    'EDM':{\n",
        "        1:'Fire'\n",
        "    },\n",
        "    'Kpop':{\n",
        "        1:'Fancy',\n",
        "        2:'Cupid'\n",
        "    }\n",
        "}"
      ]
    },
    {
      "cell_type": "markdown",
      "metadata": {
        "id": "PRBIQ5R_DND6"
      },
      "source": [
        "#### 6. Print the first song of the first genre"
      ]
    },
    {
      "cell_type": "code",
      "execution_count": 31,
      "metadata": {
        "id": "qDi62ahhDND6",
        "colab": {
          "base_uri": "https://localhost:8080/"
        },
        "outputId": "0397c538-03d8-4119-f4fc-251c520d4d60"
      },
      "outputs": [
        {
          "output_type": "stream",
          "name": "stdout",
          "text": [
            "Show\n"
          ]
        }
      ],
      "source": [
        "print(dictWGenre['Jpop'][1])"
      ]
    },
    {
      "cell_type": "markdown",
      "metadata": {
        "id": "kmrCEcOODND7"
      },
      "source": [
        "#### 7. Print the first song of the last genre"
      ]
    },
    {
      "cell_type": "code",
      "execution_count": 32,
      "metadata": {
        "id": "g16Gc8xDDND7",
        "colab": {
          "base_uri": "https://localhost:8080/"
        },
        "outputId": "89d31146-07f9-4da3-f45c-dae13ece31b0"
      },
      "outputs": [
        {
          "output_type": "stream",
          "name": "stdout",
          "text": [
            "Cupid\n"
          ]
        }
      ],
      "source": [
        "print(dictWGenre['Kpop'][2])"
      ]
    }
  ],
  "metadata": {
    "kernelspec": {
      "display_name": "Python 3",
      "language": "python",
      "name": "python3"
    },
    "language_info": {
      "codemirror_mode": {
        "name": "ipython",
        "version": 3
      },
      "file_extension": ".py",
      "mimetype": "text/x-python",
      "name": "python",
      "nbconvert_exporter": "python",
      "pygments_lexer": "ipython3",
      "version": "3.11.4"
    },
    "orig_nbformat": 4,
    "colab": {
      "provenance": []
    }
  },
  "nbformat": 4,
  "nbformat_minor": 0
}