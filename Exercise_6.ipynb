{
  "cells": [
    {
      "cell_type": "markdown",
      "metadata": {
        "id": "Cld8leZJWZwz"
      },
      "source": [
        "# Exercise 6"
      ]
    },
    {
      "cell_type": "markdown",
      "metadata": {
        "id": "Yy-eH803WZw2"
      },
      "source": [
        "#### Pre-defined code"
      ]
    },
    {
      "cell_type": "code",
      "execution_count": 56,
      "metadata": {
        "id": "gG880u2IWZw3"
      },
      "outputs": [],
      "source": [
        "class Node:\n",
        "    def __init__(self, item):\n",
        "        self.left = None\n",
        "        self.right = None\n",
        "        self.val = item"
      ]
    },
    {
      "cell_type": "code",
      "execution_count": 57,
      "metadata": {
        "id": "pLtg2X9RWZw4"
      },
      "outputs": [],
      "source": [
        "def inorder(root):\n",
        "\n",
        "    if root:\n",
        "        # Traverse left\n",
        "        inorder(root.left)\n",
        "        # Traverse root\n",
        "        print(str(root.val) + \",\", end='')\n",
        "        # Traverse right\n",
        "        inorder(root.right)\n",
        "\n",
        "def postorder(root):\n",
        "\n",
        "    if root:\n",
        "        # Traverse left\n",
        "        postorder(root.left)\n",
        "        # Traverse right\n",
        "        postorder(root.right)\n",
        "        # Traverse root\n",
        "        print(str(root.val) + \",\", end='')\n",
        "\n",
        "def preorder(root):\n",
        "\n",
        "    if root:\n",
        "        # Traverse root\n",
        "        print(str(root.val) + \",\", end='')\n",
        "        # Traverse left\n",
        "        preorder(root.left)\n",
        "        # Traverse right\n",
        "        preorder(root.right)"
      ]
    },
    {
      "cell_type": "markdown",
      "metadata": {
        "id": "YcdrP3IoWZw5"
      },
      "source": [
        "#### 1. Construct Create your own company org chart and put yourself as CEO.\n",
        "\n",
        "Using a Tree data structure,\n",
        "\n",
        "- Assign yourself as CEO\n",
        "\n",
        "- Assign any of your classmate as HR Director\n",
        "- Assign any of your classmate as Sales Director\n",
        "\n",
        "- Assign any of your classmate as trainee. His/her boss is the HR Director\n",
        "- Assign any of your classmate as a staff and trainee. Their boss is the Sales Director\n"
      ]
    },
    {
      "cell_type": "markdown",
      "metadata": {
        "id": "Q38MD4w_WZw5"
      },
      "source": [
        "<img src=\"https://thumbs.dreamstime.com/z/cartoon-organization-chart-some-company-93778925.jpg\"/>"
      ]
    },
    {
      "cell_type": "code",
      "execution_count": 58,
      "metadata": {
        "id": "kXklKpVKWZw6"
      },
      "outputs": [],
      "source": [
        "root = Node(' CEO: Iber ')\n",
        "root.left = Node(' HR Dir: Robbie ')\n",
        "root.right = Node(' Sales Dir: Gelo ')\n",
        "root.left.left = Node(' Trainee: Franze ')\n",
        "root.right.left = Node(' Staff: Dhan ')\n",
        "root.right.right = Node(' Trainee: Andrew ')"
      ]
    },
    {
      "cell_type": "markdown",
      "metadata": {
        "id": "WGukROFVWZw6"
      },
      "source": [
        "#### 2. Traverse the tree in in-order traversal"
      ]
    },
    {
      "cell_type": "code",
      "execution_count": 59,
      "metadata": {
        "id": "pw390yT2WZw6",
        "colab": {
          "base_uri": "https://localhost:8080/"
        },
        "outputId": "93816437-5097-4701-b56b-33ff10358446"
      },
      "outputs": [
        {
          "output_type": "stream",
          "name": "stdout",
          "text": [
            " Inorder traversal \n",
            " Trainee: Franze , HR Dir: Robbie , CEO: Iber , Staff: Dhan , Sales Dir: Gelo , Trainee: Andrew ,"
          ]
        }
      ],
      "source": [
        "print(\" Inorder traversal \")\n",
        "inorder(root)"
      ]
    },
    {
      "cell_type": "markdown",
      "metadata": {
        "id": "4rWCxWc0WZw7"
      },
      "source": [
        "#### 3. Traverse the tree in pre-order traversal"
      ]
    },
    {
      "cell_type": "code",
      "execution_count": 60,
      "metadata": {
        "id": "yj1-h8ldWZw7",
        "colab": {
          "base_uri": "https://localhost:8080/"
        },
        "outputId": "ed035240-38d3-4479-a008-c58f297beee4"
      },
      "outputs": [
        {
          "output_type": "stream",
          "name": "stdout",
          "text": [
            "\n",
            " Preorder traversal \n",
            " CEO: Iber , HR Dir: Robbie , Trainee: Franze , Sales Dir: Gelo , Staff: Dhan , Trainee: Andrew ,"
          ]
        }
      ],
      "source": [
        "print(\"\\n Preorder traversal \")\n",
        "preorder(root)"
      ]
    },
    {
      "cell_type": "markdown",
      "metadata": {
        "id": "jkpuNW1FWZw7"
      },
      "source": [
        "#### 4. Traverse the tree in post-order traversal"
      ]
    },
    {
      "cell_type": "code",
      "execution_count": 61,
      "metadata": {
        "id": "fe14th7zWZw8",
        "colab": {
          "base_uri": "https://localhost:8080/"
        },
        "outputId": "1d29ea7b-a1d5-41f9-9925-e9daf79770b1"
      },
      "outputs": [
        {
          "output_type": "stream",
          "name": "stdout",
          "text": [
            "\n",
            " Postorder traversal \n",
            " Trainee: Franze , HR Dir: Robbie , Staff: Dhan , Trainee: Andrew , Sales Dir: Gelo , CEO: Iber ,"
          ]
        }
      ],
      "source": [
        "print(\"\\n Postorder traversal \")\n",
        "postorder(root)"
      ]
    }
  ],
  "metadata": {
    "kernelspec": {
      "display_name": "Python 3",
      "language": "python",
      "name": "python3"
    },
    "language_info": {
      "codemirror_mode": {
        "name": "ipython",
        "version": 3
      },
      "file_extension": ".py",
      "mimetype": "text/x-python",
      "name": "python",
      "nbconvert_exporter": "python",
      "pygments_lexer": "ipython3",
      "version": "3.11.4"
    },
    "orig_nbformat": 4,
    "colab": {
      "provenance": []
    }
  },
  "nbformat": 4,
  "nbformat_minor": 0
}